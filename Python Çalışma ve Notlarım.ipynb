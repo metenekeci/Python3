{
 "cells": [
  {
   "cell_type": "markdown",
   "metadata": {},
   "source": [
    "19 Kasım 2017 Tarihi itibariyle Udemy kurslarına katıldım. Bunlardan Mustafa Murat Coşkun'a ait Python ile Programlama: Sıfırdan İleri Seviyeye Python 3 kursuna başladım. \n",
    "Daha önce kurmuş olduğum Anaconda içersinden jupyter'i çalıştırdım. Çok geç açılıyor."
   ]
  },
  {
   "cell_type": "code",
   "execution_count": 1,
   "metadata": {},
   "outputs": [
    {
     "name": "stdout",
     "output_type": "stream",
     "text": [
      "Merhaba Eskişehir ve de Mehmetçik Anadolu Lisesi\n"
     ]
    }
   ],
   "source": [
    "print(\"Merhaba Eskişehir ve de Mehmetçik Anadolu Lisesi\")"
   ]
  },
  {
   "cell_type": "code",
   "execution_count": 2,
   "metadata": {},
   "outputs": [
    {
     "name": "stdout",
     "output_type": "stream",
     "text": [
      "Bilgisayar Bilimi Kur-1 Dersine Hoşgeldiniz\n"
     ]
    }
   ],
   "source": [
    "print(\"Bilgisayar Bilimi Kur-1 Dersine Hoşgeldiniz\")"
   ]
  },
  {
   "cell_type": "code",
   "execution_count": null,
   "metadata": {
    "collapsed": true
   },
   "outputs": [],
   "source": []
  }
 ],
 "metadata": {
  "kernelspec": {
   "display_name": "Python 3",
   "language": "python",
   "name": "python3"
  },
  "language_info": {
   "codemirror_mode": {
    "name": "ipython",
    "version": 3
   },
   "file_extension": ".py",
   "mimetype": "text/x-python",
   "name": "python",
   "nbconvert_exporter": "python",
   "pygments_lexer": "ipython3",
   "version": "3.6.1"
  }
 },
 "nbformat": 4,
 "nbformat_minor": 2
}
